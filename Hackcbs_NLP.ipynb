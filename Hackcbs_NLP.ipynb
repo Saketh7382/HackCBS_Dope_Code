{
 "cells": [
  {
   "cell_type": "code",
   "execution_count": 1,
   "metadata": {},
   "outputs": [],
   "source": [
    "import nltk\n",
    "import pytesseract\n",
    "from pytesseract import Output\n",
    "import cv2 \n",
    "import numpy as np"
   ]
  },
  {
   "cell_type": "markdown",
   "metadata": {},
   "source": [
    "Possible Key POS are:\n",
    "1) NN - Highly likely\n",
    "2) IN - less probabitlity\n",
    "3) JJ/JJR/JJS - Average probability\n"
   ]
  },
  {
   "cell_type": "code",
   "execution_count": 2,
   "metadata": {},
   "outputs": [],
   "source": [
    "import nltk\n",
    "from nltk import pos_tag\n",
    "from nltk import RegexpParser\n"
   ]
  },
  {
   "cell_type": "code",
   "execution_count": 112,
   "metadata": {},
   "outputs": [
    {
     "data": {
      "text/plain": [
       "1"
      ]
     },
     "execution_count": 112,
     "metadata": {},
     "output_type": "execute_result"
    }
   ],
   "source": [
    "len(\"1PCS\".split(\".\"))"
   ]
  },
  {
   "cell_type": "code",
   "execution_count": 114,
   "metadata": {},
   "outputs": [
    {
     "data": {
      "text/plain": [
       "'IN'"
      ]
     },
     "execution_count": 114,
     "metadata": {},
     "output_type": "execute_result"
    }
   ],
   "source": [
    "pos_tag([\"of\"])[0][1]"
   ]
  },
  {
   "cell_type": "markdown",
   "metadata": {},
   "source": [
    "# Regex\n",
    "-> (kv)*\n",
    "-> k*v*\n",
    "-> k*\n",
    "-> v*\n",
    "-> k*v*k*\n",
    "-> v*k*v*\n",
    "-> (vk)*\n",
    "-> v*k*"
   ]
  },
  {
   "cell_type": "code",
   "execution_count": 31,
   "metadata": {},
   "outputs": [],
   "source": [
    "from nltk.corpus import wordnet"
   ]
  },
  {
   "cell_type": "code",
   "execution_count": 32,
   "metadata": {},
   "outputs": [
    {
     "name": "stdout",
     "output_type": "stream",
     "text": [
      "[Synset('dog.n.01'), Synset('frump.n.01'), Synset('dog.n.03'), Synset('cad.n.01'), Synset('frank.n.02'), Synset('pawl.n.01'), Synset('andiron.n.01'), Synset('chase.v.01')]\n"
     ]
    }
   ],
   "source": [
    "syns = wordnet.synsets(\"dog\")\n",
    "print(syns)"
   ]
  },
  {
   "cell_type": "code",
   "execution_count": 14,
   "metadata": {},
   "outputs": [],
   "source": [
    "import numpy as np\n",
    "import argparse\n",
    "import imutils\n",
    "import cv2\n",
    "from scipy import ndimage\n",
    "import re"
   ]
  },
  {
   "cell_type": "code",
   "execution_count": 97,
   "metadata": {
    "scrolled": false
   },
   "outputs": [
    {
     "name": "stdout",
     "output_type": "stream",
     "text": [
      "192\n",
      "\\Grand\n",
      "i = 192\n",
      "left = 357\n",
      "top = 399\n",
      "height = 26\n",
      "width = 38\n",
      "\n",
      "\n",
      "\\Grand\n",
      "Total\n"
     ]
    }
   ],
   "source": [
    "image = cv2.imread(\"/home/cp/invoice_images/4/132732.jpg\",0)\n",
    "d = pytesseract.image_to_string(image,output_type=Output.DICT)\n",
    "data = pytesseract.image_to_data(image,output_type=Output.DICT)\n",
    "p = re.compile(\"Grand Total\")\n",
    "invoice_pos = -1\n",
    "e_pos = -1\n",
    "l = len(data[\"level\"])\n",
    "for i in range(0,len(data[\"level\"])-1):\n",
    "    for m in p.finditer(data['text'][i]+\" \"+data['text'][i+1]):\n",
    "        invoice_pos = i\n",
    "        print(i)\n",
    "if invoice_pos != -1:\n",
    "    h = []\n",
    "    w = []\n",
    "    top = []\n",
    "    left = []\n",
    "    print(data[\"text\"][invoice_pos])\n",
    "    print(\"i = {}\".format(invoice_pos))\n",
    "    print(\"left = {}\".format(data[\"left\"][invoice_pos]))\n",
    "    left.append(data[\"left\"][invoice_pos])\n",
    "    print(\"top = {}\".format(data[\"top\"][invoice_pos]))\n",
    "    top.append(data[\"top\"][invoice_pos])\n",
    "    print(\"height = {}\".format(data[\"height\"][invoice_pos]))\n",
    "    h.append(data[\"height\"][invoice_pos])\n",
    "    print(\"width = {}\".format(data[\"width\"][invoice_pos]))\n",
    "    w.append(data[\"width\"][invoice_pos])\n",
    "    print()\n",
    "    for i in range(0,l):\n",
    "        for j in range(0,len(h)):\n",
    "            if data[\"left\"][i] >= left[j]-20:\n",
    "                if data[\"top\"][i] >= top[j]-2 and data[\"top\"][i] <= top[j]+(h[j]):\n",
    "                    print(data['text'][i])\n",
    "    #addition of total needed you bloody guy\n",
    "else:\n",
    "    print(\"dobbey\")"
   ]
  },
  {
   "cell_type": "code",
   "execution_count": 98,
   "metadata": {
    "scrolled": false
   },
   "outputs": [
    {
     "name": "stdout",
     "output_type": "stream",
     "text": [
      "oo\n",
      "\n",
      "—\n",
      "\n",
      "[Customer\n",
      "\n",
      "[Adress\n",
      "\n",
      " \n",
      "\n",
      " \n",
      "\n",
      "Neen,\n",
      "\n",
      "Giinie Hospital Mumbal 04\n",
      "\n",
      " \n",
      "\n",
      " \n",
      "\n",
      "Vinayak Electronics\n",
      "WpreamLand Bullaing\n",
      "\\Opera House\n",
      "\n",
      "25-27 New Qucens Road\n",
      "Isumbal400 004\n",
      "\n",
      "nda —\n",
      "\\pH.; 022-256a0711 7279\n",
      "[Website /E-Mal;_somcentraperaiymalicom\n",
      "\n",
      "    \n",
      "\n",
      " \n",
      "\n",
      " \n",
      "\n",
      " \n",
      "\n",
      " \n",
      "\n",
      " \n",
      "\n",
      " \n",
      "\n",
      " \n",
      "\n",
      " \n",
      "\n",
      " \n",
      "\n",
      " \n",
      "\n",
      " \n",
      "\n",
      " \n",
      "\n",
      " \n",
      "\n",
      " \n",
      "\n",
      " \n",
      "\n",
      " \n",
      "\n",
      " \n",
      "\n",
      " \n",
      "\n",
      " \n",
      "\n",
      " \n",
      "\n",
      "Contactor “aaa, «| csc\n",
      "CatemerTinnes |\n",
      "Hinvolee Noi 1819 [ust Rat 7s.\n",
      "ira ba ago — ime\n",
      "[roar INR 26,431.72\n",
      "War Pye een\n",
      "\\Grand Total nr 30,000 _}\n",
      "\n",
      "‘Amount (in words) Thirty thousand Indian Rupee\n",
      "Payment Details\n",
      "\n",
      " \n",
      "\n",
      "[cash Amount:\n",
      "|cheque Amount:\n",
      "\\credit Card Amount\n",
      "Balance Due Amount\n",
      "\n",
      " \n",
      "\n",
      "Finance Amount\n",
      "Remarks/Reference\n",
      "\n",
      " \n",
      "\n",
      "2\n",
      "\n",
      " \n",
      "\n",
      "30,000.00 |\n",
      "0.00\n",
      "\n",
      "0.00\n",
      "0.00\n",
      "\n",
      "0.00\n",
      "\n",
      "acd Ch\n",
      "on: 21 Sony Dood\n",
      "\n",
      "  \n",
      "  \n",
      "   \n",
      "\n",
      " \n",
      "\n",
      "rae aby ery ak my [our regions cri\n",
      "\n",
      "Yacsend ax het 2002 sn ore\n",
      "\n",
      "ena be pa.\n",
      "\n",
      "oe vs ad thatthe warsacton ofS\n",
      "\n",
      "cnce so shal ot be retuned | exchanged\n",
      "\n",
      "    \n",
      "\n",
      "cate der te Maharastra Vue\n",
      "fe ef the gods speed 0\n",
      "jo covered by ts\n",
      "Haale second for ne turer of\n",
      "any payle onthe sl has een pal of\n",
      "\n",
      "one data on which the 5a\n"
     ]
    }
   ],
   "source": [
    "print(d['text'])"
   ]
  },
  {
   "cell_type": "code",
   "execution_count": null,
   "metadata": {},
   "outputs": [],
   "source": []
  },
  {
   "cell_type": "code",
   "execution_count": null,
   "metadata": {},
   "outputs": [],
   "source": []
  }
 ],
 "metadata": {
  "kernelspec": {
   "display_name": "Python 3",
   "language": "python",
   "name": "python3"
  },
  "language_info": {
   "codemirror_mode": {
    "name": "ipython",
    "version": 3
   },
   "file_extension": ".py",
   "mimetype": "text/x-python",
   "name": "python",
   "nbconvert_exporter": "python",
   "pygments_lexer": "ipython3",
   "version": "3.7.3"
  }
 },
 "nbformat": 4,
 "nbformat_minor": 2
}
