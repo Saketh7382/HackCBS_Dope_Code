{
 "cells": [
  {
   "cell_type": "markdown",
   "metadata": {},
   "source": [
    "# Invoice and date"
   ]
  },
  {
   "cell_type": "code",
   "execution_count": null,
   "metadata": {},
   "outputs": [],
   "source": [
    "image = cv2.imread(\"/home/cp/invoice_images/3/132810.jpe\",0)\n",
    "d = pytesseract.image_to_string(image,output_type=Output.DICT)\n",
    "data = pytesseract.image_to_data(image,output_type=Output.DICT)\n",
    "p = re.compile(\"nvoice\")\n",
    "invoice_pos = -1\n",
    "e_pos = -1\n",
    "l = len(data[\"level\"])\n",
    "for i in range(0,len(data[\"level\"])-1):\n",
    "    for m in p.finditer(data['text'][i]):\n",
    "        invoice_pos = i\n",
    "        print(i)\n",
    "if invoice_pos != -1:\n",
    "    h = []\n",
    "    w = []\n",
    "    top = []\n",
    "    left = []\n",
    "    print(data[\"text\"][invoice_pos])\n",
    "    print(\"i = {}\".format(invoice_pos))\n",
    "    print(\"left = {}\".format(data[\"left\"][invoice_pos]))\n",
    "    left.append(data[\"left\"][invoice_pos])\n",
    "    print(\"top = {}\".format(data[\"top\"][invoice_pos]))\n",
    "    top.append(data[\"top\"][invoice_pos])\n",
    "    print(\"height = {}\".format(data[\"height\"][invoice_pos]))\n",
    "    h.append(data[\"height\"][invoice_pos])\n",
    "    print(\"width = {}\".format(data[\"width\"][invoice_pos]))\n",
    "    w.append(data[\"width\"][invoice_pos])\n",
    "    print()\n",
    "    for i in range(0,l):\n",
    "        for j in range(0,len(h)):\n",
    "            if data[\"left\"][i] >= left[j]-20:\n",
    "                if data[\"top\"][i] >= top[j]-2 and data[\"top\"][i] <= top[j]+(h[j]):\n",
    "                    print(data['text'][i])\n",
    "    #addition of total needed you bloody guy\n",
    "else:\n",
    "    print(\"dobbey\")"
   ]
  },
  {
   "cell_type": "code",
   "execution_count": 1,
   "metadata": {},
   "outputs": [],
   "source": [
    "#Amount is to be detected by an external function"
   ]
  },
  {
   "cell_type": "code",
   "execution_count": null,
   "metadata": {},
   "outputs": [],
   "source": []
  }
 ],
 "metadata": {
  "kernelspec": {
   "display_name": "Python 3",
   "language": "python",
   "name": "python3"
  },
  "language_info": {
   "codemirror_mode": {
    "name": "ipython",
    "version": 3
   },
   "file_extension": ".py",
   "mimetype": "text/x-python",
   "name": "python",
   "nbconvert_exporter": "python",
   "pygments_lexer": "ipython3",
   "version": "3.7.3"
  }
 },
 "nbformat": 4,
 "nbformat_minor": 2
}
