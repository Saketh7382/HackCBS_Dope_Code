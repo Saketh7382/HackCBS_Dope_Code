{
 "cells": [
  {
   "cell_type": "markdown",
   "metadata": {},
   "source": [
    "# Key Value Extraction for Template 01"
   ]
  },
  {
   "cell_type": "code",
   "execution_count": 59,
   "metadata": {},
   "outputs": [],
   "source": [
    "import nltk\n",
    "import pytesseract\n",
    "from pytesseract import Output\n",
    "import cv2 \n",
    "import numpy as np\n",
    "import re\n",
    "from nltk import pos_tag\n",
    "from nltk import RegexpParser\n"
   ]
  },
  {
   "cell_type": "code",
   "execution_count": 60,
   "metadata": {},
   "outputs": [],
   "source": [
    "result = {}"
   ]
  },
  {
   "cell_type": "code",
   "execution_count": 72,
   "metadata": {},
   "outputs": [],
   "source": [
    "image = cv2.imread(\"/home/cp/invoice_images/1/102732.jpg\",0)\n",
    "d = pytesseract.image_to_string(image,output_type=Output.DICT)\n",
    "data = pytesseract.image_to_data(image,output_type=Output.DICT)\n",
    "l = len(data[\"level\"])\n",
    "p = re.compile(\"nvoice N\")\n",
    "invoice_pos = -1\n",
    "for i in range(0,len(data[\"level\"])-1):\n",
    "    for m in p.finditer(data['text'][i]+\" \"+data[\"text\"][i+1]):\n",
    "        invoice_pos = i\n",
    "\n",
    "h = []\n",
    "w = []\n",
    "top = []\n",
    "left = []\n",
    "for i in range(0,l):\n",
    "    if data[\"text\"][i] == \"Dated\" or data[\"text\"][i] == \"dated\" or data[\"text\"][i] == \"Dated:\":\n",
    "#         print(data[\"text\"][i])\n",
    "#         print(\"i = {}\".format(i))\n",
    "#         print(\"left = {}\".format(data[\"left\"][i]))\n",
    "        left.append(data[\"left\"][i])\n",
    "#         print(\"top = {}\".format(data[\"top\"][i]))\n",
    "        top.append(data[\"top\"][i])\n",
    "#         print(\"height = {}\".format(data[\"height\"][i]))\n",
    "        h.append(data[\"height\"][i])\n",
    "#         print(\"width = {}\".format(data[\"width\"][i]))\n",
    "        w.append(data[\"width\"][i])\n",
    "#         print()\n",
    "\n",
    "op = []\n",
    "for i in range(0,l):\n",
    "    for j in range(0,len(h)):\n",
    "        if data[\"left\"][i] >= left[j]-20 and data[\"left\"][i] <= left[j]+(2.3*w[j]):\n",
    "            if data[\"top\"][i] >= top[j]-2 and data[\"top\"][i] <= top[j]+(2.3*h[j]):\n",
    "                if data[\"text\"][i] == \"Dated\":\n",
    "                    continue\n",
    "                else:\n",
    "                    word = data[\"text\"][i]\n",
    "                    word = nltk.word_tokenize(word)\n",
    "                    pos = pos_tag(word)\n",
    "                    if(pos != [] and pos[0][1] == 'JJ'):\n",
    "                        result['Dated'] = data[\"text\"][i]\n",
    "                    \n",
    "if invoice_pos != -1:\n",
    "    h = []\n",
    "    w = []\n",
    "    top = []\n",
    "    left = []\n",
    "#     print(data[\"text\"][invoice_pos])\n",
    "#     print(\"i = {}\".format(invoice_pos))\n",
    "#     print(\"left = {}\".format(data[\"left\"][invoice_pos]))\n",
    "    left.append(data[\"left\"][invoice_pos])\n",
    "#     print(\"top = {}\".format(data[\"top\"][invoice_pos]))\n",
    "    top.append(data[\"top\"][invoice_pos])\n",
    "#     print(\"height = {}\".format(data[\"height\"][invoice_pos]))\n",
    "    h.append(data[\"height\"][invoice_pos])\n",
    "#     print(\"width = {}\".format(data[\"width\"][invoice_pos]))\n",
    "    w.append(data[\"width\"][invoice_pos])\n",
    "#     print()\n",
    "    for i in range(0,l):\n",
    "        for j in range(0,len(h)):\n",
    "            if data[\"left\"][i] >= left[j]-20 and data[\"left\"][i] <= left[j]+(2.3*w[j]):\n",
    "                if data[\"top\"][i] >= top[j]-2 and data[\"top\"][i] <= top[j]+(2.3*h[j]):\n",
    "                    if pos_tag([data[\"text\"][i]])[0][1] == 'CD':\n",
    "                        result[\"Invoice No.\"] = data[\"text\"][i]\n",
    "else:\n",
    "    print(\"Invoice Number not found in the document\")\n",
    "    print(\"Upload the image without excessive noice\")\n",
    "    \n",
    "p = re.compile(\"Total\")\n",
    "invoice_pos = -1\n",
    "l = len(data[\"level\"])\n",
    "for i in range(0,len(data[\"level\"])-1):\n",
    "    for m in p.finditer(data['text'][i]+\" \"+data[\"text\"][i+1]):\n",
    "        invoice_pos = i\n",
    "#         print(i)\n",
    "if invoice_pos != -1:\n",
    "    h = []\n",
    "    w = []\n",
    "    top = []\n",
    "    left = []\n",
    "#     print(data[\"text\"][invoice_pos])\n",
    "#     print(\"i = {}\".format(invoice_pos))\n",
    "#     print(\"left = {}\".format(data[\"left\"][invoice_pos]))\n",
    "    left.append(data[\"left\"][invoice_pos])\n",
    "#     print(\"top = {}\".format(data[\"top\"][invoice_pos]))\n",
    "    top.append(data[\"top\"][invoice_pos])\n",
    "#     print(\"height = {}\".format(data[\"height\"][invoice_pos]))\n",
    "    h.append(data[\"height\"][invoice_pos])\n",
    "#     print(\"width = {}\".format(data[\"width\"][invoice_pos]))\n",
    "    w.append(data[\"width\"][invoice_pos])\n",
    "#     print()\n",
    "    len_list = 0\n",
    "    for i in range(0,l):\n",
    "        for j in range(0,len(h)):\n",
    "            if data[\"left\"][i] >= left[j]-20:\n",
    "                if data[\"top\"][i] >= top[j]-2 and data[\"top\"][i] <= top[j]+(h[j]):\n",
    "                    word = data[\"text\"][i]\n",
    "                    word = nltk.word_tokenize(word)\n",
    "                    pos = pos_tag(word)\n",
    "                    if pos == []:\n",
    "                        continue\n",
    "                    else:\n",
    "                        if(pos[0][1] == 'CD'):\n",
    "                            len_list = len(data['text'][i].split(\".\"))\n",
    "                            if len_list == 1:\n",
    "                                result['Total Quantity'] = data['text'][i]\n",
    "                            elif len_list == 2:\n",
    "                                result['Total Amount'] = data['text'][i]\n",
    "else:\n",
    "    print(\"Total Amount/Quantity not found in the document\")\n",
    "    print(\"Upload the image without excessive noice\")"
   ]
  },
  {
   "cell_type": "code",
   "execution_count": 73,
   "metadata": {},
   "outputs": [
    {
     "data": {
      "text/plain": [
       "{'Dated': '24-Jan-2017',\n",
       " 'Invoice No.': '6451',\n",
       " 'Total Quantity': '1',\n",
       " 'Total Amount': '14,000.00'}"
      ]
     },
     "execution_count": 73,
     "metadata": {},
     "output_type": "execute_result"
    }
   ],
   "source": [
    "result"
   ]
  }
 ],
 "metadata": {
  "kernelspec": {
   "display_name": "Python 3",
   "language": "python",
   "name": "python3"
  },
  "language_info": {
   "codemirror_mode": {
    "name": "ipython",
    "version": 3
   },
   "file_extension": ".py",
   "mimetype": "text/x-python",
   "name": "python",
   "nbconvert_exporter": "python",
   "pygments_lexer": "ipython3",
   "version": "3.7.3"
  }
 },
 "nbformat": 4,
 "nbformat_minor": 2
}
