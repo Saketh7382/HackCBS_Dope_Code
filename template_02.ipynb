{
 "cells": [
  {
   "cell_type": "markdown",
   "metadata": {},
   "source": [
    "# Amount"
   ]
  },
  {
   "cell_type": "code",
   "execution_count": 4,
   "metadata": {},
   "outputs": [],
   "source": [
    "import nltk\n",
    "import pytesseract\n",
    "from pytesseract import Output\n",
    "import cv2 \n",
    "import numpy as np\n",
    "from scipy import ndimage\n",
    "import re"
   ]
  },
  {
   "cell_type": "code",
   "execution_count": 7,
   "metadata": {},
   "outputs": [
    {
     "name": "stdout",
     "output_type": "stream",
     "text": [
      "95\n",
      "164\n",
      "214\n",
      "AMOUNT\n",
      "i = 95\n",
      "left = 1173\n",
      "top = 273\n",
      "height = 16\n",
      "width = 90\n",
      "\n",
      "AMOUNT\n",
      "54,625.55\n",
      "7,374.45\n",
      "\n",
      "\n",
      "\n",
      "62,000.00\n"
     ]
    }
   ],
   "source": [
    "image = cv2.imread(\"/home/cp/invoice_images/2/132746.jpe\",0)\n",
    "height, width = image.shape[0],image.shape[1]\n",
    "if height > width:\n",
    "    image = ndimage.rotate(image, 90)\n",
    "d = pytesseract.image_to_string(image,output_type=Output.DICT)\n",
    "data = pytesseract.image_to_data(image,output_type=Output.DICT)\n",
    "p = re.compile(\"AMOUNT\")\n",
    "q = re.compile(\"ENTERPRISE\")\n",
    "invoice_pos = -1\n",
    "e_pos = -1\n",
    "l = len(data[\"level\"])\n",
    "for i in range(0,len(data[\"level\"])-1):\n",
    "    for m in p.finditer(data['text'][i]):\n",
    "        invoice_pos = i\n",
    "        print(i)\n",
    "    for m in q.finditer(data['text'][i]):\n",
    "        e_pos = i\n",
    "        print(i)\n",
    "if invoice_pos != -1:\n",
    "    j = -1\n",
    "    h = []\n",
    "    w = []\n",
    "    top = []\n",
    "    left = []\n",
    "    print(data[\"text\"][invoice_pos])\n",
    "    print(\"i = {}\".format(invoice_pos))\n",
    "    print(\"left = {}\".format(data[\"left\"][invoice_pos]))\n",
    "    left.append(data[\"left\"][invoice_pos])\n",
    "    print(\"top = {}\".format(data[\"top\"][invoice_pos]))\n",
    "    top.append(data[\"top\"][invoice_pos])\n",
    "    print(\"height = {}\".format(data[\"height\"][invoice_pos]))\n",
    "    h.append(data[\"height\"][invoice_pos])\n",
    "    print(\"width = {}\".format(data[\"width\"][invoice_pos]))\n",
    "    w.append(data[\"width\"][invoice_pos])\n",
    "    print()\n",
    "    if e_pos == -1:\n",
    "        finval = width\n",
    "    else:\n",
    "        finval = data[\"top\"][e_pos]-(h[j])\n",
    "    for i in range(0,l):\n",
    "        for j in range(0,len(h)):\n",
    "            if data[\"left\"][i] >= left[j]-20:\n",
    "                if data[\"top\"][i] >= top[j]-2 and data[\"top\"][i] <= finval:\n",
    "                    print(data['text'][i])\n",
    "    #addition of total needed you bloody guy\n",
    "else:\n",
    "    print(\"dobbey\")"
   ]
  },
  {
   "cell_type": "code",
   "execution_count": null,
   "metadata": {},
   "outputs": [],
   "source": []
  }
 ],
 "metadata": {
  "kernelspec": {
   "display_name": "Python 3",
   "language": "python",
   "name": "python3"
  },
  "language_info": {
   "codemirror_mode": {
    "name": "ipython",
    "version": 3
   },
   "file_extension": ".py",
   "mimetype": "text/x-python",
   "name": "python",
   "nbconvert_exporter": "python",
   "pygments_lexer": "ipython3",
   "version": "3.7.3"
  }
 },
 "nbformat": 4,
 "nbformat_minor": 2
}
