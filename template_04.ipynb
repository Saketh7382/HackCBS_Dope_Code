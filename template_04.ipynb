{
 "cells": [
  {
   "cell_type": "code",
   "execution_count": 1,
   "metadata": {},
   "outputs": [],
   "source": [
    "#Invoice num"
   ]
  },
  {
   "cell_type": "code",
   "execution_count": 3,
   "metadata": {},
   "outputs": [
    {
     "ename": "NameError",
     "evalue": "name 'cv2' is not defined",
     "output_type": "error",
     "traceback": [
      "\u001b[0;31m---------------------------------------------------------------------------\u001b[0m",
      "\u001b[0;31mNameError\u001b[0m                                 Traceback (most recent call last)",
      "\u001b[0;32m<ipython-input-3-3db9c7c988ec>\u001b[0m in \u001b[0;36m<module>\u001b[0;34m()\u001b[0m\n\u001b[0;32m----> 1\u001b[0;31m \u001b[0mimage\u001b[0m \u001b[0;34m=\u001b[0m \u001b[0mcv2\u001b[0m\u001b[0;34m.\u001b[0m\u001b[0mimread\u001b[0m\u001b[0;34m(\u001b[0m\u001b[0;34m\"/home/cp/invoice_images/4/101396.jpg\"\u001b[0m\u001b[0;34m,\u001b[0m\u001b[0;36m0\u001b[0m\u001b[0;34m)\u001b[0m\u001b[0;34m\u001b[0m\u001b[0;34m\u001b[0m\u001b[0m\n\u001b[0m\u001b[1;32m      2\u001b[0m \u001b[0md\u001b[0m \u001b[0;34m=\u001b[0m \u001b[0mpytesseract\u001b[0m\u001b[0;34m.\u001b[0m\u001b[0mimage_to_string\u001b[0m\u001b[0;34m(\u001b[0m\u001b[0mimage\u001b[0m\u001b[0;34m,\u001b[0m\u001b[0moutput_type\u001b[0m\u001b[0;34m=\u001b[0m\u001b[0mOutput\u001b[0m\u001b[0;34m.\u001b[0m\u001b[0mDICT\u001b[0m\u001b[0;34m)\u001b[0m\u001b[0;34m\u001b[0m\u001b[0;34m\u001b[0m\u001b[0m\n\u001b[1;32m      3\u001b[0m \u001b[0mdata\u001b[0m \u001b[0;34m=\u001b[0m \u001b[0mpytesseract\u001b[0m\u001b[0;34m.\u001b[0m\u001b[0mimage_to_data\u001b[0m\u001b[0;34m(\u001b[0m\u001b[0mimage\u001b[0m\u001b[0;34m,\u001b[0m\u001b[0moutput_type\u001b[0m\u001b[0;34m=\u001b[0m\u001b[0mOutput\u001b[0m\u001b[0;34m.\u001b[0m\u001b[0mDICT\u001b[0m\u001b[0;34m)\u001b[0m\u001b[0;34m\u001b[0m\u001b[0;34m\u001b[0m\u001b[0m\n\u001b[1;32m      4\u001b[0m \u001b[0mp\u001b[0m \u001b[0;34m=\u001b[0m \u001b[0mre\u001b[0m\u001b[0;34m.\u001b[0m\u001b[0mcompile\u001b[0m\u001b[0;34m(\u001b[0m\u001b[0;34m\"Invoice\"\u001b[0m\u001b[0;34m)\u001b[0m\u001b[0;34m\u001b[0m\u001b[0;34m\u001b[0m\u001b[0m\n\u001b[1;32m      5\u001b[0m \u001b[0minvoice_pos\u001b[0m \u001b[0;34m=\u001b[0m \u001b[0;34m-\u001b[0m\u001b[0;36m1\u001b[0m\u001b[0;34m\u001b[0m\u001b[0;34m\u001b[0m\u001b[0m\n",
      "\u001b[0;31mNameError\u001b[0m: name 'cv2' is not defined"
     ]
    }
   ],
   "source": [
    "image = cv2.imread(\"/home/cp/invoice_images/4/101396.jpg\",0)\n",
    "d = pytesseract.image_to_string(image,output_type=Output.DICT)\n",
    "data = pytesseract.image_to_data(image,output_type=Output.DICT)\n",
    "p = re.compile(\"Invoice\")\n",
    "invoice_pos = -1\n",
    "e_pos = -1\n",
    "l = len(data[\"level\"])\n",
    "for i in range(0,len(data[\"level\"])-1):\n",
    "    for m in p.finditer(data['text'][i]):\n",
    "        invoice_pos = i\n",
    "        print(i)\n",
    "if invoice_pos != -1:\n",
    "    h = []\n",
    "    w = []\n",
    "    top = []\n",
    "    left = []\n",
    "    print(data[\"text\"][invoice_pos])\n",
    "    print(\"i = {}\".format(invoice_pos))\n",
    "    print(\"left = {}\".format(data[\"left\"][invoice_pos]))\n",
    "    left.append(data[\"left\"][invoice_pos])\n",
    "    print(\"top = {}\".format(data[\"top\"][invoice_pos]))\n",
    "    top.append(data[\"top\"][invoice_pos])\n",
    "    print(\"height = {}\".format(data[\"height\"][invoice_pos]))\n",
    "    h.append(data[\"height\"][invoice_pos])\n",
    "    print(\"width = {}\".format(data[\"width\"][invoice_pos]))\n",
    "    w.append(data[\"width\"][invoice_pos])\n",
    "    print()\n",
    "    for i in range(0,l):\n",
    "        for j in range(0,len(h)):\n",
    "            if data[\"left\"][i] >= left[j]-20:\n",
    "                if data[\"top\"][i] >= top[j]-2 and data[\"top\"][i] <= top[j]+(h[j]):\n",
    "                    print(data['text'][i])\n",
    "    #addition of total needed you bloody guy\n",
    "else:\n",
    "    print(\"dobbey\")"
   ]
  },
  {
   "cell_type": "code",
   "execution_count": null,
   "metadata": {},
   "outputs": [],
   "source": [
    "#grand total"
   ]
  },
  {
   "cell_type": "code",
   "execution_count": null,
   "metadata": {},
   "outputs": [],
   "source": [
    "image = cv2.imread(\"/home/cp/invoice_images/4/101396.jpg\",0)\n",
    "d = pytesseract.image_to_string(image,output_type=Output.DICT)\n",
    "data = pytesseract.image_to_data(image,output_type=Output.DICT)\n",
    "p = re.compile(\"Grand Total\")\n",
    "invoice_pos = -1\n",
    "e_pos = -1\n",
    "l = len(data[\"level\"])\n",
    "for i in range(0,len(data[\"level\"])-1):\n",
    "    for m in p.finditer(data['text'][i]+\" \"+data['text'][i+1]):\n",
    "        invoice_pos = i\n",
    "        print(i)\n",
    "if invoice_pos != -1:\n",
    "    h = []\n",
    "    w = []\n",
    "    top = []\n",
    "    left = []\n",
    "    print(data[\"text\"][invoice_pos])\n",
    "    print(\"i = {}\".format(invoice_pos))\n",
    "    print(\"left = {}\".format(data[\"left\"][invoice_pos]))\n",
    "    left.append(data[\"left\"][invoice_pos])\n",
    "    print(\"top = {}\".format(data[\"top\"][invoice_pos]))\n",
    "    top.append(data[\"top\"][invoice_pos])\n",
    "    print(\"height = {}\".format(data[\"height\"][invoice_pos]))\n",
    "    h.append(data[\"height\"][invoice_pos])\n",
    "    print(\"width = {}\".format(data[\"width\"][invoice_pos]))\n",
    "    w.append(data[\"width\"][invoice_pos])\n",
    "    print()\n",
    "    for i in range(0,l):\n",
    "        for j in range(0,len(h)):\n",
    "            if data[\"left\"][i] >= left[j]-20:\n",
    "                if data[\"top\"][i] >= top[j]-2 and data[\"top\"][i] <= top[j]+(h[j]):\n",
    "                    print(data['text'][i])\n",
    "    #addition of total needed you bloody guy\n",
    "else:\n",
    "    print(\"dobbey\")"
   ]
  }
 ],
 "metadata": {
  "kernelspec": {
   "display_name": "Python 3",
   "language": "python",
   "name": "python3"
  },
  "language_info": {
   "codemirror_mode": {
    "name": "ipython",
    "version": 3
   },
   "file_extension": ".py",
   "mimetype": "text/x-python",
   "name": "python",
   "nbconvert_exporter": "python",
   "pygments_lexer": "ipython3",
   "version": "3.7.3"
  }
 },
 "nbformat": 4,
 "nbformat_minor": 2
}
